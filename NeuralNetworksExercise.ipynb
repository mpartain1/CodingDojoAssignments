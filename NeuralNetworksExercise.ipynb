{
  "nbformat": 4,
  "nbformat_minor": 0,
  "metadata": {
    "colab": {
      "name": "NeuralNetworksExercise.ipynb",
      "provenance": [],
      "authorship_tag": "ABX9TyN1BGE0YiiO7CbNr8glPs6n",
      "include_colab_link": true
    },
    "kernelspec": {
      "name": "python3",
      "display_name": "Python 3"
    },
    "language_info": {
      "name": "python"
    }
  },
  "cells": [
    {
      "cell_type": "markdown",
      "metadata": {
        "id": "view-in-github",
        "colab_type": "text"
      },
      "source": [
        "<a href=\"https://colab.research.google.com/github/mpartain1/CodingDojoAssignments/blob/main/NeuralNetworksExercise.ipynb\" target=\"_parent\"><img src=\"https://colab.research.google.com/assets/colab-badge.svg\" alt=\"Open In Colab\"/></a>"
      ]
    },
    {
      "cell_type": "code",
      "execution_count": 55,
      "metadata": {
        "id": "38SGUOibesu2"
      },
      "outputs": [],
      "source": [
        "import numpy as np\n",
        "import matplotlib.pyplot as plt\n",
        "import pandas as pd\n",
        "from sklearn.preprocessing import LabelEncoder, StandardScaler, OneHotEncoder\n",
        "from sklearn.model_selection import train_test_split\n",
        "from sklearn.decomposition import PCA\n",
        "from sklearn.linear_model import LogisticRegression\n",
        "from sklearn.pipeline import make_pipeline\n",
        "from sklearn.neighbors import KNeighborsClassifier\n",
        "from sklearn.metrics import accuracy_score, precision_score, recall_score\n",
        "import sklearn.metrics as metrics\n",
        "from sklearn.cluster import KMeans\n",
        "from sklearn.metrics import silhouette_score\n",
        "from tensorflow.keras.models import Sequential\n",
        "from tensorflow.keras.layers import Dense, Dropout\n",
        "from tensorflow.keras import metrics\n",
        "from sklearn.compose import make_column_selector, make_column_transformer\n",
        "from sklearn.metrics import mean_squared_error, r2_score, mean_absolute_error\n",
        "from sklearn.preprocessing import StandardScaler, OneHotEncoder\n",
        "from sklearn.compose import make_column_transformer\n",
        "from sklearn.model_selection import train_test_split\n",
        "from sklearn.metrics import mean_squared_error, r2_score, mean_absolute_error"
      ]
    },
    {
      "cell_type": "code",
      "source": [
        "df = pd.read_csv('/content/train.csv')"
      ],
      "metadata": {
        "id": "9XQSs_NvrgPR"
      },
      "execution_count": 56,
      "outputs": []
    },
    {
      "cell_type": "code",
      "source": [
        "df.info()"
      ],
      "metadata": {
        "colab": {
          "base_uri": "https://localhost:8080/"
        },
        "id": "i57jAbWUuBvY",
        "outputId": "a39ce9d3-e50c-40ce-f6d8-8b9f67f0cd56"
      },
      "execution_count": 57,
      "outputs": [
        {
          "output_type": "stream",
          "name": "stdout",
          "text": [
            "<class 'pandas.core.frame.DataFrame'>\n",
            "RangeIndex: 1460 entries, 0 to 1459\n",
            "Data columns (total 81 columns):\n",
            " #   Column         Non-Null Count  Dtype  \n",
            "---  ------         --------------  -----  \n",
            " 0   Id             1460 non-null   int64  \n",
            " 1   MSSubClass     1460 non-null   int64  \n",
            " 2   MSZoning       1460 non-null   object \n",
            " 3   LotFrontage    1201 non-null   float64\n",
            " 4   LotArea        1460 non-null   int64  \n",
            " 5   Street         1460 non-null   object \n",
            " 6   Alley          91 non-null     object \n",
            " 7   LotShape       1460 non-null   object \n",
            " 8   LandContour    1460 non-null   object \n",
            " 9   Utilities      1460 non-null   object \n",
            " 10  LotConfig      1460 non-null   object \n",
            " 11  LandSlope      1460 non-null   object \n",
            " 12  Neighborhood   1460 non-null   object \n",
            " 13  Condition1     1460 non-null   object \n",
            " 14  Condition2     1460 non-null   object \n",
            " 15  BldgType       1460 non-null   object \n",
            " 16  HouseStyle     1460 non-null   object \n",
            " 17  OverallQual    1460 non-null   int64  \n",
            " 18  OverallCond    1460 non-null   int64  \n",
            " 19  YearBuilt      1460 non-null   int64  \n",
            " 20  YearRemodAdd   1460 non-null   int64  \n",
            " 21  RoofStyle      1460 non-null   object \n",
            " 22  RoofMatl       1460 non-null   object \n",
            " 23  Exterior1st    1460 non-null   object \n",
            " 24  Exterior2nd    1460 non-null   object \n",
            " 25  MasVnrType     1452 non-null   object \n",
            " 26  MasVnrArea     1452 non-null   float64\n",
            " 27  ExterQual      1460 non-null   object \n",
            " 28  ExterCond      1460 non-null   object \n",
            " 29  Foundation     1460 non-null   object \n",
            " 30  BsmtQual       1423 non-null   object \n",
            " 31  BsmtCond       1423 non-null   object \n",
            " 32  BsmtExposure   1422 non-null   object \n",
            " 33  BsmtFinType1   1423 non-null   object \n",
            " 34  BsmtFinSF1     1460 non-null   int64  \n",
            " 35  BsmtFinType2   1422 non-null   object \n",
            " 36  BsmtFinSF2     1460 non-null   int64  \n",
            " 37  BsmtUnfSF      1460 non-null   int64  \n",
            " 38  TotalBsmtSF    1460 non-null   int64  \n",
            " 39  Heating        1460 non-null   object \n",
            " 40  HeatingQC      1460 non-null   object \n",
            " 41  CentralAir     1460 non-null   object \n",
            " 42  Electrical     1459 non-null   object \n",
            " 43  1stFlrSF       1460 non-null   int64  \n",
            " 44  2ndFlrSF       1460 non-null   int64  \n",
            " 45  LowQualFinSF   1460 non-null   int64  \n",
            " 46  GrLivArea      1460 non-null   int64  \n",
            " 47  BsmtFullBath   1460 non-null   int64  \n",
            " 48  BsmtHalfBath   1460 non-null   int64  \n",
            " 49  FullBath       1460 non-null   int64  \n",
            " 50  HalfBath       1460 non-null   int64  \n",
            " 51  BedroomAbvGr   1460 non-null   int64  \n",
            " 52  KitchenAbvGr   1460 non-null   int64  \n",
            " 53  KitchenQual    1460 non-null   object \n",
            " 54  TotRmsAbvGrd   1460 non-null   int64  \n",
            " 55  Functional     1460 non-null   object \n",
            " 56  Fireplaces     1460 non-null   int64  \n",
            " 57  FireplaceQu    770 non-null    object \n",
            " 58  GarageType     1379 non-null   object \n",
            " 59  GarageYrBlt    1379 non-null   float64\n",
            " 60  GarageFinish   1379 non-null   object \n",
            " 61  GarageCars     1460 non-null   int64  \n",
            " 62  GarageArea     1460 non-null   int64  \n",
            " 63  GarageQual     1379 non-null   object \n",
            " 64  GarageCond     1379 non-null   object \n",
            " 65  PavedDrive     1460 non-null   object \n",
            " 66  WoodDeckSF     1460 non-null   int64  \n",
            " 67  OpenPorchSF    1460 non-null   int64  \n",
            " 68  EnclosedPorch  1460 non-null   int64  \n",
            " 69  3SsnPorch      1460 non-null   int64  \n",
            " 70  ScreenPorch    1460 non-null   int64  \n",
            " 71  PoolArea       1460 non-null   int64  \n",
            " 72  PoolQC         7 non-null      object \n",
            " 73  Fence          281 non-null    object \n",
            " 74  MiscFeature    54 non-null     object \n",
            " 75  MiscVal        1460 non-null   int64  \n",
            " 76  MoSold         1460 non-null   int64  \n",
            " 77  YrSold         1460 non-null   int64  \n",
            " 78  SaleType       1460 non-null   object \n",
            " 79  SaleCondition  1460 non-null   object \n",
            " 80  SalePrice      1460 non-null   int64  \n",
            "dtypes: float64(3), int64(35), object(43)\n",
            "memory usage: 924.0+ KB\n"
          ]
        }
      ]
    },
    {
      "cell_type": "code",
      "source": [
        "num_selector = make_column_selector(dtype_include='number')\n",
        "cat_selector = make_column_selector(dtype_include = 'object')\n",
        "num_tuple = (StandardScaler(), num_selector)\n",
        "cat_tuple = (OneHotEncoder(handle_unknown = 'ignore'), cat_selector)\n",
        "preprocessor = make_column_transformer(num_tuple, remainder = 'passthrough')\n",
        "y = df['SalePrice']\n",
        "X = df.drop(columns = ['SalePrice'])\n",
        "X_train, X_test, y_train, y_test = train_test_split(X, y, random_state=42)\n",
        "preprocessor.fit(X_train)\n",
        "X_train_proc = preprocessor.transform(X_train)\n",
        "X_test_proc = preprocessor.transform(X_test)"
      ],
      "metadata": {
        "id": "W0ysAqjgus0V"
      },
      "execution_count": 74,
      "outputs": []
    },
    {
      "cell_type": "code",
      "source": [
        "input_dim = X_train_proc.shape[1]\n",
        " \n",
        "reg_model = Sequential()\n",
        " \n",
        "reg_model.add(Dense(20, input_dim=input_dim, activation='relu'))\n",
        "reg_model.add(Dense(15, activation='relu'))\n",
        "reg_model.add(Dense(1, activation='linear'))\n",
        " \n",
        "reg_model.summary()"
      ],
      "metadata": {
        "colab": {
          "base_uri": "https://localhost:8080/"
        },
        "id": "IoPSGlEFtXCs",
        "outputId": "79574746-5f13-4bfd-a095-1ab5f024b277"
      },
      "execution_count": 75,
      "outputs": [
        {
          "output_type": "stream",
          "name": "stdout",
          "text": [
            "Model: \"sequential_9\"\n",
            "_________________________________________________________________\n",
            " Layer (type)                Output Shape              Param #   \n",
            "=================================================================\n",
            " dense_27 (Dense)            (None, 20)                760       \n",
            "                                                                 \n",
            " dense_28 (Dense)            (None, 15)                315       \n",
            "                                                                 \n",
            " dense_29 (Dense)            (None, 1)                 16        \n",
            "                                                                 \n",
            "=================================================================\n",
            "Total params: 1,091\n",
            "Trainable params: 1,091\n",
            "Non-trainable params: 0\n",
            "_________________________________________________________________\n"
          ]
        }
      ]
    },
    {
      "cell_type": "code",
      "source": [
        "reg_model.compile(loss='mse',\n",
        "                  optimizer='adam',\n",
        "                  metrics=[metrics.MeanAbsoluteError(),\n",
        "                           metrics.RootMeanSquaredError()])\n",
        "\n",
        "y_pred = reg_model.predict(X_test_proc)\n",
        "y_pred = pd.DataFrame(y_pred)\n",
        "y_pred.dropna(how='all', inplace=True)\n",
        "y_test.dropna(how='all', inplace=True)\n",
        "y_test = y_test[0:281]\n",
        " \n",
        "y_pred.isna().sum()\n",
        "\n",
        "print(f'final RMSE: {np.sqrt(mean_squared_error(y_test, y_pred))}')\n",
        "print(f'final MAE: {mean_absolute_error(y_test, y_pred)}')\n",
        "print(f'final R2: {r2_score(y_test, y_pred)}')"
      ],
      "metadata": {
        "colab": {
          "base_uri": "https://localhost:8080/"
        },
        "id": "XC65x2vZ9hE-",
        "outputId": "257e4841-f1ad-460a-e1b3-ee20eec57b38"
      },
      "execution_count": 76,
      "outputs": [
        {
          "output_type": "stream",
          "name": "stdout",
          "text": [
            "final RMSE: 199693.61789776603\n",
            "final MAE: 179142.2084908598\n",
            "final R2: -4.121956632807777\n"
          ]
        }
      ]
    },
    {
      "cell_type": "code",
      "source": [
        "reg_model2 = Sequential()\n",
        " \n",
        "reg_model2.add(Dense(30, input_dim=input_dim, activation='relu'))\n",
        "reg_model2.add(Dense(15, activation='relu'))\n",
        "reg_model2.add(Dense(1, activation='linear'))\n",
        " \n",
        "reg_model2.summary()\n",
        "\n",
        "print(f'final RMSE: {np.sqrt(mean_squared_error(y_test, y_pred))}')\n",
        "print(f'final MAE: {mean_absolute_error(y_test, y_pred)}')\n",
        "print(f'final R2: {r2_score(y_test, y_pred)}')"
      ],
      "metadata": {
        "colab": {
          "base_uri": "https://localhost:8080/"
        },
        "id": "IKZZJryYtP0R",
        "outputId": "ba862bc8-fc17-4c3f-cceb-aa85582aecea"
      },
      "execution_count": 78,
      "outputs": [
        {
          "output_type": "stream",
          "name": "stdout",
          "text": [
            "Model: \"sequential_11\"\n",
            "_________________________________________________________________\n",
            " Layer (type)                Output Shape              Param #   \n",
            "=================================================================\n",
            " dense_33 (Dense)            (None, 30)                1140      \n",
            "                                                                 \n",
            " dense_34 (Dense)            (None, 15)                465       \n",
            "                                                                 \n",
            " dense_35 (Dense)            (None, 1)                 16        \n",
            "                                                                 \n",
            "=================================================================\n",
            "Total params: 1,621\n",
            "Trainable params: 1,621\n",
            "Non-trainable params: 0\n",
            "_________________________________________________________________\n",
            "final RMSE: 199693.61789776603\n",
            "final MAE: 179142.2084908598\n",
            "final R2: -4.121956632807777\n"
          ]
        }
      ]
    },
    {
      "cell_type": "code",
      "source": [
        "reg_model3 = Sequential()\n",
        " \n",
        "reg_model3.add(Dense(30, input_dim=input_dim, activation='relu'))\n",
        "reg_model3.add(Dropout(.2))\n",
        "reg_model3.add(Dense(15, activation='relu'))\n",
        "reg_model3.add(Dropout(.2))\n",
        "reg_model3.add(Dense(7, activation='relu'))\n",
        "reg_model3.add(Dropout(.2))\n",
        "reg_model3.add(Dense(1, activation='linear'))\n",
        "\n",
        "# Step 2: Compile\n",
        "reg_model3.compile(loss='mse',\n",
        "              optimizer='adam',\n",
        "              metrics=[metrics.MeanAbsoluteError(),\n",
        "              metrics.RootMeanSquaredError()])\n",
        "\n",
        "\n",
        "\n",
        "print(f'final RMSE: {np.sqrt(mean_squared_error(y_test, y_pred))}')\n",
        "print(f'final MAE: {mean_absolute_error(y_test, y_pred)}')\n",
        "print(f'final R2: {r2_score(y_test, y_pred)}')"
      ],
      "metadata": {
        "colab": {
          "base_uri": "https://localhost:8080/"
        },
        "id": "yzEnnm6dCJ7M",
        "outputId": "3ab77115-c729-4a88-d20c-8ab87bfaefc1"
      },
      "execution_count": 79,
      "outputs": [
        {
          "output_type": "stream",
          "name": "stdout",
          "text": [
            "final RMSE: 199693.61789776603\n",
            "final MAE: 179142.2084908598\n",
            "final R2: -4.121956632807777\n"
          ]
        }
      ]
    },
    {
      "cell_type": "markdown",
      "source": [
        "I tried to give this one a solid, honest effort but kept running into some problems that I could not figure out, and ended up producing 3 different models, with regularization, that are not too helpful unfortunately.\n",
        "\n",
        "Sources: learn platform, stack overflow, etc."
      ],
      "metadata": {
        "id": "PNtoRyImCm3l"
      }
    }
  ]
}