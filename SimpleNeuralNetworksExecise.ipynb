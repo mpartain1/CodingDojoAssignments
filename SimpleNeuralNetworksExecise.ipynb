{
  "nbformat": 4,
  "nbformat_minor": 0,
  "metadata": {
    "colab": {
      "name": "SimpleNeuralNetworksExecise.ipynb",
      "provenance": [],
      "collapsed_sections": [],
      "mount_file_id": "1m9KtUsio9tXY37wB1pT9ob5-jxSbxZMN",
      "authorship_tag": "ABX9TyPpaed0+XllMnWxmDVrLYdr",
      "include_colab_link": true
    },
    "kernelspec": {
      "name": "python3",
      "display_name": "Python 3"
    },
    "language_info": {
      "name": "python"
    }
  },
  "cells": [
    {
      "cell_type": "markdown",
      "metadata": {
        "id": "view-in-github",
        "colab_type": "text"
      },
      "source": [
        "<a href=\"https://colab.research.google.com/github/mpartain1/CodingDojoAssignments/blob/main/SimpleNeuralNetworksExecise.ipynb\" target=\"_parent\"><img src=\"https://colab.research.google.com/assets/colab-badge.svg\" alt=\"Open In Colab\"/></a>"
      ]
    },
    {
      "cell_type": "code",
      "execution_count": 30,
      "metadata": {
        "id": "90CPjitBa2qR"
      },
      "outputs": [],
      "source": [
        "import numpy as np\n",
        "import matplotlib.pyplot as plt\n",
        "import pandas as pd\n",
        "from sklearn.preprocessing import OneHotEncoder, StandardScaler\n",
        "from sklearn.model_selection import train_test_split\n",
        "from sklearn.compose import make_column_selector, make_column_transformer\n",
        "from sklearn.decomposition import PCA\n",
        "from sklearn.linear_model import LogisticRegression\n",
        "from sklearn.pipeline import make_pipeline\n",
        "from sklearn.neighbors import KNeighborsClassifier\n",
        "from sklearn.metrics import accuracy_score, precision_score, recall_score\n",
        "import sklearn.metrics as metrics\n",
        "from sklearn.cluster import KMeans\n",
        "from sklearn.metrics import silhouette_score\n",
        "from tensorflow.keras.models import Sequential\n",
        "from tensorflow.keras.layers import Dense, Dropout\n",
        "from tensorflow.keras import metrics\n",
        "from sklearn.metrics import mean_squared_error, r2_score, mean_absolute_error"
      ]
    },
    {
      "cell_type": "code",
      "source": [
        "df = pd.read_csv('/content/heart - heart.csv')"
      ],
      "metadata": {
        "id": "qDLY9MbXbBol"
      },
      "execution_count": 2,
      "outputs": []
    },
    {
      "cell_type": "markdown",
      "source": [
        "# Data Exploration and Cleaning"
      ],
      "metadata": {
        "id": "PXwJlJbBeVMR"
      }
    },
    {
      "cell_type": "code",
      "source": [
        "df.info()\n",
        "df.isna().sum()"
      ],
      "metadata": {
        "colab": {
          "base_uri": "https://localhost:8080/"
        },
        "id": "L-PEaDxubIKk",
        "outputId": "b5c05a6c-3698-401e-91f0-873a203f905a"
      },
      "execution_count": 3,
      "outputs": [
        {
          "output_type": "stream",
          "name": "stdout",
          "text": [
            "<class 'pandas.core.frame.DataFrame'>\n",
            "RangeIndex: 918 entries, 0 to 917\n",
            "Data columns (total 12 columns):\n",
            " #   Column          Non-Null Count  Dtype  \n",
            "---  ------          --------------  -----  \n",
            " 0   Age             918 non-null    int64  \n",
            " 1   Sex             918 non-null    object \n",
            " 2   ChestPainType   918 non-null    object \n",
            " 3   RestingBP       918 non-null    int64  \n",
            " 4   Cholesterol     918 non-null    int64  \n",
            " 5   FastingBS       918 non-null    int64  \n",
            " 6   RestingECG      918 non-null    object \n",
            " 7   MaxHR           918 non-null    int64  \n",
            " 8   ExerciseAngina  918 non-null    object \n",
            " 9   Oldpeak         918 non-null    float64\n",
            " 10  ST_Slope        918 non-null    object \n",
            " 11  HeartDisease    918 non-null    int64  \n",
            "dtypes: float64(1), int64(6), object(5)\n",
            "memory usage: 86.2+ KB\n"
          ]
        },
        {
          "output_type": "execute_result",
          "data": {
            "text/plain": [
              "Age               0\n",
              "Sex               0\n",
              "ChestPainType     0\n",
              "RestingBP         0\n",
              "Cholesterol       0\n",
              "FastingBS         0\n",
              "RestingECG        0\n",
              "MaxHR             0\n",
              "ExerciseAngina    0\n",
              "Oldpeak           0\n",
              "ST_Slope          0\n",
              "HeartDisease      0\n",
              "dtype: int64"
            ]
          },
          "metadata": {},
          "execution_count": 3
        }
      ]
    },
    {
      "cell_type": "markdown",
      "source": [
        "### Below, we look at histograms for each of the numerical values to determine if there are any unrealistic outliers to either remove or impute with the category's mean."
      ],
      "metadata": {
        "id": "OJV8tIVseY6t"
      }
    },
    {
      "cell_type": "code",
      "source": [
        "plt.style.use('ggplot')\n",
        "df['Age'].hist()"
      ],
      "metadata": {
        "colab": {
          "base_uri": "https://localhost:8080/",
          "height": 282
        },
        "id": "V_KAgatGbrph",
        "outputId": "e41fd36d-08d9-4633-9fb4-f8dd099eac34"
      },
      "execution_count": 4,
      "outputs": [
        {
          "output_type": "execute_result",
          "data": {
            "text/plain": [
              "<matplotlib.axes._subplots.AxesSubplot at 0x7fd984232850>"
            ]
          },
          "metadata": {},
          "execution_count": 4
        },
        {
          "output_type": "display_data",
          "data": {
            "text/plain": [
              "<Figure size 432x288 with 1 Axes>"
            ],
            "image/png": "[encoded data removed]"
          },
          "metadata": {}
        }
      ]
    },
    {
      "cell_type": "code",
      "source": [
        "plt.style.use('ggplot')\n",
        "df['RestingBP'].hist()"
      ],
      "metadata": {
        "colab": {
          "base_uri": "https://localhost:8080/",
          "height": 282
        },
        "id": "ViUF34tDbxYa",
        "outputId": "12f2325e-78a0-4e4e-a976-be4b9ad9ad67"
      },
      "execution_count": 5,
      "outputs": [
        {
          "output_type": "execute_result",
          "data": {
            "text/plain": [
              "<matplotlib.axes._subplots.AxesSubplot at 0x7fd983caf7d0>"
            ]
          },
          "metadata": {},
          "execution_count": 5
        },
        {
          "output_type": "display_data",
          "data": {
            "text/plain": [
              "<Figure size 432x288 with 1 Axes>"
            ],
            "image/png": "[encoded data removed]"
          },
          "metadata": {}
        }
      ]
    },
    {
      "cell_type": "markdown",
      "source": [
        "It appears there is at least one value around zero that should not be there, we will further examine this point/s and impute the mean RestingBP here since the histogram roughly follows a bell curve."
      ],
      "metadata": {
        "id": "HfDD6RL6cIdS"
      }
    },
    {
      "cell_type": "code",
      "source": [
        "df['RestingBP'].min()\n",
        "df.loc[df['RestingBP']==0, 'RestingBP'] = df['RestingBP'].mean()"
      ],
      "metadata": {
        "id": "VE87qgAAcY3z"
      },
      "execution_count": 19,
      "outputs": []
    },
    {
      "cell_type": "code",
      "source": [
        "df['RestingBP'].min()"
      ],
      "metadata": {
        "colab": {
          "base_uri": "https://localhost:8080/"
        },
        "id": "-lKdahQgcviD",
        "outputId": "2bbc4d81-9ef9-4d3f-9b9d-853adbbd6d49"
      },
      "execution_count": 18,
      "outputs": [
        {
          "output_type": "execute_result",
          "data": {
            "text/plain": [
              "80.0"
            ]
          },
          "metadata": {},
          "execution_count": 18
        }
      ]
    },
    {
      "cell_type": "markdown",
      "source": [
        "The zero value for RestingBP has been taken care of."
      ],
      "metadata": {
        "id": "WHZBRccOczit"
      }
    },
    {
      "cell_type": "code",
      "source": [
        "plt.style.use('ggplot')\n",
        "df['Cholesterol'].hist()"
      ],
      "metadata": {
        "colab": {
          "base_uri": "https://localhost:8080/",
          "height": 282
        },
        "id": "Qx8oR4MPb2RI",
        "outputId": "2e729131-f5b7-436e-ac05-877fc6c4bd8a"
      },
      "execution_count": 6,
      "outputs": [
        {
          "output_type": "execute_result",
          "data": {
            "text/plain": [
              "<matplotlib.axes._subplots.AxesSubplot at 0x7fd983bc5a50>"
            ]
          },
          "metadata": {},
          "execution_count": 6
        },
        {
          "output_type": "display_data",
          "data": {
            "text/plain": [
              "<Figure size 432x288 with 1 Axes>"
            ],
            "image/png": "[encoded data removed]"
          },
          "metadata": {}
        }
      ]
    },
    {
      "cell_type": "code",
      "source": [
        "plt.style.use('ggplot')\n",
        "df['FastingBS'].hist()"
      ],
      "metadata": {
        "colab": {
          "base_uri": "https://localhost:8080/",
          "height": 282
        },
        "id": "vy87QjTyb5IE",
        "outputId": "eb67ac0d-b721-47f2-92f5-e77676ebfa2f"
      },
      "execution_count": 7,
      "outputs": [
        {
          "output_type": "execute_result",
          "data": {
            "text/plain": [
              "<matplotlib.axes._subplots.AxesSubplot at 0x7fd983b47a90>"
            ]
          },
          "metadata": {},
          "execution_count": 7
        },
        {
          "output_type": "display_data",
          "data": {
            "text/plain": [
              "<Figure size 432x288 with 1 Axes>"
            ],
            "image/png": "[encoded data removed]"
          },
          "metadata": {}
        }
      ]
    },
    {
      "cell_type": "code",
      "source": [
        "plt.style.use('ggplot')\n",
        "df['MaxHR'].hist()"
      ],
      "metadata": {
        "colab": {
          "base_uri": "https://localhost:8080/",
          "height": 285
        },
        "id": "enlOJjp_b7UV",
        "outputId": "1b763aad-9085-425c-9e41-6ac996bbf9df"
      },
      "execution_count": 8,
      "outputs": [
        {
          "output_type": "execute_result",
          "data": {
            "text/plain": [
              "<matplotlib.axes._subplots.AxesSubplot at 0x7fd983b4c850>"
            ]
          },
          "metadata": {},
          "execution_count": 8
        },
        {
          "output_type": "display_data",
          "data": {
            "text/plain": [
              "<Figure size 432x288 with 1 Axes>"
            ],
            "image/png": "[encoded data removed]"
          },
          "metadata": {}
        }
      ]
    },
    {
      "cell_type": "code",
      "source": [
        "plt.style.use('ggplot')\n",
        "df['Oldpeak'].hist()"
      ],
      "metadata": {
        "colab": {
          "base_uri": "https://localhost:8080/",
          "height": 282
        },
        "id": "jn5Bjbjhb_YG",
        "outputId": "daa3c2c0-8e07-4a43-fb26-8fee929c9d67"
      },
      "execution_count": 10,
      "outputs": [
        {
          "output_type": "execute_result",
          "data": {
            "text/plain": [
              "<matplotlib.axes._subplots.AxesSubplot at 0x7fd9838fb950>"
            ]
          },
          "metadata": {},
          "execution_count": 10
        },
        {
          "output_type": "display_data",
          "data": {
            "text/plain": [
              "<Figure size 432x288 with 1 Axes>"
            ],
            "image/png": "[encoded data removed]"
          },
          "metadata": {}
        }
      ]
    },
    {
      "cell_type": "code",
      "source": [
        "plt.style.use('ggplot')\n",
        "df['HeartDisease'].hist()"
      ],
      "metadata": {
        "colab": {
          "base_uri": "https://localhost:8080/",
          "height": 282
        },
        "id": "9BC6T9IMcA2U",
        "outputId": "0f37a0ce-d88e-41b3-8ae5-1cab5f15d271"
      },
      "execution_count": 11,
      "outputs": [
        {
          "output_type": "execute_result",
          "data": {
            "text/plain": [
              "<matplotlib.axes._subplots.AxesSubplot at 0x7fd9838c2050>"
            ]
          },
          "metadata": {},
          "execution_count": 11
        },
        {
          "output_type": "display_data",
          "data": {
            "text/plain": [
              "<Figure size 432x288 with 1 Axes>"
            ],
            "image/png": "[encoded data removed]"
          },
          "metadata": {}
        }
      ]
    },
    {
      "cell_type": "markdown",
      "source": [
        "### From the above graphs, we can see that there aren't any more column values too far off the main groups, so row deletion or mean imputation are not necessary for the other columns besides RestingBP. There are also no meaningless columns to drop. We will now check for and remove duplicates."
      ],
      "metadata": {
        "id": "JQ4Ysq68dIsj"
      }
    },
    {
      "cell_type": "code",
      "source": [
        "df.drop_duplicates(inplace=True)"
      ],
      "metadata": {
        "id": "s3S_a5GfcG5r"
      },
      "execution_count": 20,
      "outputs": []
    },
    {
      "cell_type": "markdown",
      "source": [
        "We will now check for inconsistent categorical column values."
      ],
      "metadata": {
        "id": "mgFn0qB0dfJk"
      }
    },
    {
      "cell_type": "code",
      "source": [
        "df['ChestPainType'].value_counts()"
      ],
      "metadata": {
        "colab": {
          "base_uri": "https://localhost:8080/"
        },
        "id": "po993IijdeNw",
        "outputId": "6dcc1eaa-c19f-4da4-9f6d-6d21bcff713f"
      },
      "execution_count": 21,
      "outputs": [
        {
          "output_type": "execute_result",
          "data": {
            "text/plain": [
              "ASY    496\n",
              "NAP    203\n",
              "ATA    173\n",
              "TA      46\n",
              "Name: ChestPainType, dtype: int64"
            ]
          },
          "metadata": {},
          "execution_count": 21
        }
      ]
    },
    {
      "cell_type": "code",
      "source": [
        "df['Sex'].value_counts()"
      ],
      "metadata": {
        "colab": {
          "base_uri": "https://localhost:8080/"
        },
        "id": "irDvBgNxdis7",
        "outputId": "4774fc16-aaf2-484b-d773-48471e090037"
      },
      "execution_count": 22,
      "outputs": [
        {
          "output_type": "execute_result",
          "data": {
            "text/plain": [
              "M    725\n",
              "F    193\n",
              "Name: Sex, dtype: int64"
            ]
          },
          "metadata": {},
          "execution_count": 22
        }
      ]
    },
    {
      "cell_type": "code",
      "source": [
        "df['RestingECG'].value_counts()"
      ],
      "metadata": {
        "colab": {
          "base_uri": "https://localhost:8080/"
        },
        "id": "YWTFqsg7dpv_",
        "outputId": "8d4cc518-16be-42b6-d145-3c1c3740e0ad"
      },
      "execution_count": 23,
      "outputs": [
        {
          "output_type": "execute_result",
          "data": {
            "text/plain": [
              "Normal    552\n",
              "LVH       188\n",
              "ST        178\n",
              "Name: RestingECG, dtype: int64"
            ]
          },
          "metadata": {},
          "execution_count": 23
        }
      ]
    },
    {
      "cell_type": "code",
      "source": [
        "df['ExerciseAngina'].value_counts()"
      ],
      "metadata": {
        "colab": {
          "base_uri": "https://localhost:8080/"
        },
        "id": "nWiaSjJ2dySE",
        "outputId": "1fe6dda1-2cfd-444e-f580-d312cc107d2c"
      },
      "execution_count": 26,
      "outputs": [
        {
          "output_type": "execute_result",
          "data": {
            "text/plain": [
              "N    547\n",
              "Y    371\n",
              "Name: ExerciseAngina, dtype: int64"
            ]
          },
          "metadata": {},
          "execution_count": 26
        }
      ]
    },
    {
      "cell_type": "code",
      "source": [
        "df['HeartDisease'].value_counts()"
      ],
      "metadata": {
        "colab": {
          "base_uri": "https://localhost:8080/"
        },
        "id": "vmNokgr8d0D8",
        "outputId": "59cbb063-2d1b-4b2c-c18a-d67af7fa93aa"
      },
      "execution_count": 27,
      "outputs": [
        {
          "output_type": "execute_result",
          "data": {
            "text/plain": [
              "1    508\n",
              "0    410\n",
              "Name: HeartDisease, dtype: int64"
            ]
          },
          "metadata": {},
          "execution_count": 27
        }
      ]
    },
    {
      "cell_type": "markdown",
      "source": [
        "### Categorical column values are consistent."
      ],
      "metadata": {
        "id": "IEqM1K02eK1R"
      }
    },
    {
      "cell_type": "code",
      "source": [
        "num_selector = make_column_selector(dtype_include='number')\n",
        "cat_selector = make_column_selector(dtype_include = 'object')\n",
        "num_tuple = (StandardScaler(), num_selector)\n",
        "cat_tuple = (OneHotEncoder(handle_unknown = 'ignore'), cat_selector)\n",
        "preprocessor = make_column_transformer(num_tuple, cat_tuple, remainder = 'passthrough')\n",
        "y = df['HeartDisease']\n",
        "X = df.drop(columns = ['HeartDisease'])\n",
        "X_train, X_test, y_train, y_test = train_test_split(X, y, random_state=42)\n",
        "preprocessor.fit(X_train)\n",
        "X_train_proc = preprocessor.transform(X_train)\n",
        "X_test_proc = preprocessor.transform(X_test)"
      ],
      "metadata": {
        "id": "zZIz6iLWeE57"
      },
      "execution_count": 37,
      "outputs": []
    },
    {
      "cell_type": "markdown",
      "source": [
        "# Model 1:"
      ],
      "metadata": {
        "id": "pCyRY1vw3QGP"
      }
    },
    {
      "cell_type": "code",
      "source": [
        "#Model Definition\n",
        "input_shape = X_train_proc.shape[1]\n",
        "model = Sequential()\n",
        "model.add(Dense(12, \n",
        "                input_dim = input_shape, \n",
        "                activation = 'relu')) \n",
        "model.add(Dense(1, activation = 'sigmoid'))\n",
        "\n",
        "#Compilation\n",
        "model.compile(loss = 'bce', optimizer = 'adam')\n",
        "\n",
        "#Training history\n",
        "history = model.fit(X_train_proc, y_train,\n",
        "                    validation_data = (X_test_proc, y_test), \n",
        "                    epochs=10)\n",
        "\n",
        "#Visualization\n",
        "plt.plot(history.history['loss'], label='Train loss')\n",
        "plt.plot(history.history['val_loss'], label='Test Loss')\n",
        "plt.legend();\n",
        "\n",
        "#Metrics\n",
        "y_pred = model.predict(X_test_proc)\n",
        "print(f'final RMSE: {np.sqrt(mean_squared_error(y_test, y_pred))}')\n",
        "print(f'final MAE: {mean_absolute_error(y_test, y_pred)}')\n",
        "print(f'final R2: {r2_score(y_test, y_pred)}')"
      ],
      "metadata": {
        "colab": {
          "base_uri": "https://localhost:8080/",
          "height": 656
        },
        "id": "5hY0nJGWl64Y",
        "outputId": "7d04d8e7-fc8e-4157-e489-be8b51d77683"
      },
      "execution_count": 40,
      "outputs": [
        {
          "output_type": "stream",
          "name": "stdout",
          "text": [
            "Epoch 1/10\n",
            "22/22 [==============================] - 1s 9ms/step - loss: 0.7206 - val_loss: 0.6890\n",
            "Epoch 2/10\n",
            "22/22 [==============================] - 0s 6ms/step - loss: 0.6488 - val_loss: 0.6254\n",
            "Epoch 3/10\n",
            "22/22 [==============================] - 0s 3ms/step - loss: 0.5902 - val_loss: 0.5731\n",
            "Epoch 4/10\n",
            "22/22 [==============================] - 0s 3ms/step - loss: 0.5421 - val_loss: 0.5270\n",
            "Epoch 5/10\n",
            "22/22 [==============================] - 0s 3ms/step - loss: 0.4991 - val_loss: 0.4914\n",
            "Epoch 6/10\n",
            "22/22 [==============================] - 0s 4ms/step - loss: 0.4639 - val_loss: 0.4595\n",
            "Epoch 7/10\n",
            "22/22 [==============================] - 0s 3ms/step - loss: 0.4346 - val_loss: 0.4353\n",
            "Epoch 8/10\n",
            "22/22 [==============================] - 0s 4ms/step - loss: 0.4110 - val_loss: 0.4171\n",
            "Epoch 9/10\n",
            "22/22 [==============================] - 0s 4ms/step - loss: 0.3938 - val_loss: 0.4030\n",
            "Epoch 10/10\n",
            "22/22 [==============================] - 0s 3ms/step - loss: 0.3806 - val_loss: 0.3909\n",
            "final RMSE: 0.34681531334019877\n",
            "final MAE: 0.2742567856674609\n",
            "final R2: 0.5081278929415531\n"
          ]
        },
        {
          "output_type": "display_data",
          "data": {
            "text/plain": [
              "<Figure size 432x288 with 1 Axes>"
            ],
            "image/png": "[encoded data removed]"
          },
          "metadata": {}
        }
      ]
    },
    {
      "cell_type": "markdown",
      "source": [
        "# Model 2:"
      ],
      "metadata": {
        "id": "kYA70mIr3WJO"
      }
    },
    {
      "cell_type": "code",
      "source": [
        "#Model Definition\n",
        "input_shape = X_train_proc.shape[1]\n",
        "model = Sequential()\n",
        "model.add(Dense(12, \n",
        "                input_dim = input_shape, \n",
        "                activation = 'relu')) \n",
        "model.add(Dense(6, \n",
        "                activation = 'relu')) \n",
        "model.add(Dense(1, activation = 'sigmoid'))\n",
        "\n",
        "#Compilation\n",
        "model.compile(loss = 'bce', optimizer = 'adam')\n",
        "\n",
        "#Training history\n",
        "history = model.fit(X_train_proc, y_train,\n",
        "                    validation_data = (X_test_proc, y_test), \n",
        "                    epochs=10)\n",
        "\n",
        "#Visualization\n",
        "plt.plot(history.history['loss'], label='Train loss')\n",
        "plt.plot(history.history['val_loss'], label='Test Loss')\n",
        "plt.legend();\n",
        "\n",
        "#Metrics\n",
        "y_pred = model.predict(X_test_proc)\n",
        "print(f'final RMSE: {np.sqrt(mean_squared_error(y_test, y_pred))}')\n",
        "print(f'final MAE: {mean_absolute_error(y_test, y_pred)}')\n",
        "print(f'final R2: {r2_score(y_test, y_pred)}')"
      ],
      "metadata": {
        "colab": {
          "base_uri": "https://localhost:8080/",
          "height": 656
        },
        "id": "0GhGp8kE1o2c",
        "outputId": "67910474-d1da-4952-ce6a-f10dfb42fe42"
      },
      "execution_count": 41,
      "outputs": [
        {
          "output_type": "stream",
          "name": "stdout",
          "text": [
            "Epoch 1/10\n",
            "22/22 [==============================] - 1s 16ms/step - loss: 0.7070 - val_loss: 0.6697\n",
            "Epoch 2/10\n",
            "22/22 [==============================] - 0s 8ms/step - loss: 0.6438 - val_loss: 0.6235\n",
            "Epoch 3/10\n",
            "22/22 [==============================] - 0s 8ms/step - loss: 0.5902 - val_loss: 0.5789\n",
            "Epoch 4/10\n",
            "22/22 [==============================] - 0s 6ms/step - loss: 0.5355 - val_loss: 0.5294\n",
            "Epoch 5/10\n",
            "22/22 [==============================] - 0s 5ms/step - loss: 0.4877 - val_loss: 0.4876\n",
            "Epoch 6/10\n",
            "22/22 [==============================] - 0s 5ms/step - loss: 0.4518 - val_loss: 0.4558\n",
            "Epoch 7/10\n",
            "22/22 [==============================] - 0s 5ms/step - loss: 0.4268 - val_loss: 0.4360\n",
            "Epoch 8/10\n",
            "22/22 [==============================] - 0s 6ms/step - loss: 0.4103 - val_loss: 0.4200\n",
            "Epoch 9/10\n",
            "22/22 [==============================] - 0s 5ms/step - loss: 0.3976 - val_loss: 0.4098\n",
            "Epoch 10/10\n",
            "22/22 [==============================] - 0s 6ms/step - loss: 0.3884 - val_loss: 0.3967\n",
            "final RMSE: 0.354557243001361\n",
            "final MAE: 0.2727905791738759\n",
            "final R2: 0.4859227458198815\n"
          ]
        },
        {
          "output_type": "display_data",
          "data": {
            "text/plain": [
              "<Figure size 432x288 with 1 Axes>"
            ],
            "image/png": "[encoded data removed]"
          },
          "metadata": {}
        }
      ]
    },
    {
      "cell_type": "markdown",
      "source": [
        "# Model 3"
      ],
      "metadata": {
        "id": "P2tmP3ws9dN9"
      }
    },
    {
      "cell_type": "code",
      "source": [
        "#Model Definition\n",
        "input_shape = X_train_proc.shape[1]\n",
        "model = Sequential()\n",
        "model.add(Dense(12, \n",
        "                input_dim = input_shape, \n",
        "                activation = 'relu')) \n",
        "model.add(Dense(10, \n",
        "                activation = 'relu')) \n",
        "model.add(Dense(1, activation = 'sigmoid'))\n",
        "\n",
        "#Compilation\n",
        "model.compile(loss = 'bce', optimizer = 'adam')\n",
        "\n",
        "#Training history\n",
        "history = model.fit(X_train_proc, y_train,\n",
        "                    validation_data = (X_test_proc, y_test), \n",
        "                    epochs=10)\n",
        "\n",
        "#Visualization\n",
        "plt.plot(history.history['loss'], label='Train loss')\n",
        "plt.plot(history.history['val_loss'], label='Test Loss')\n",
        "plt.legend();\n",
        "\n",
        "#Metrics\n",
        "y_pred = model.predict(X_test_proc)\n",
        "print(f'final RMSE: {np.sqrt(mean_squared_error(y_test, y_pred))}')\n",
        "print(f'final MAE: {mean_absolute_error(y_test, y_pred)}')\n",
        "print(f'final R2: {r2_score(y_test, y_pred)}')"
      ],
      "metadata": {
        "colab": {
          "base_uri": "https://localhost:8080/",
          "height": 657
        },
        "id": "IeDLXgkj30EM",
        "outputId": "e79f8fa5-7e66-48d9-b669-92bd939ed5cb"
      },
      "execution_count": 42,
      "outputs": [
        {
          "output_type": "stream",
          "name": "stdout",
          "text": [
            "Epoch 1/10\n",
            "22/22 [==============================] - 1s 20ms/step - loss: 0.6401 - val_loss: 0.6061\n",
            "Epoch 2/10\n",
            "22/22 [==============================] - 0s 6ms/step - loss: 0.5870 - val_loss: 0.5608\n",
            "Epoch 3/10\n",
            "22/22 [==============================] - 0s 6ms/step - loss: 0.5385 - val_loss: 0.5185\n",
            "Epoch 4/10\n",
            "22/22 [==============================] - 0s 6ms/step - loss: 0.4946 - val_loss: 0.4819\n",
            "Epoch 5/10\n",
            "22/22 [==============================] - 0s 6ms/step - loss: 0.4578 - val_loss: 0.4483\n",
            "Epoch 6/10\n",
            "22/22 [==============================] - 0s 7ms/step - loss: 0.4285 - val_loss: 0.4251\n",
            "Epoch 7/10\n",
            "22/22 [==============================] - 0s 9ms/step - loss: 0.4065 - val_loss: 0.3999\n",
            "Epoch 8/10\n",
            "22/22 [==============================] - 0s 7ms/step - loss: 0.3876 - val_loss: 0.3846\n",
            "Epoch 9/10\n",
            "22/22 [==============================] - 0s 7ms/step - loss: 0.3735 - val_loss: 0.3715\n",
            "Epoch 10/10\n",
            "22/22 [==============================] - 0s 8ms/step - loss: 0.3621 - val_loss: 0.3630\n",
            "final RMSE: 0.33542281095589865\n",
            "final MAE: 0.2474824572386949\n",
            "final R2: 0.5399120558445006\n"
          ]
        },
        {
          "output_type": "display_data",
          "data": {
            "text/plain": [
              "<Figure size 432x288 with 1 Axes>"
            ],
            "image/png": "[encoded data removed]"
          },
          "metadata": {}
        }
      ]
    },
    {
      "cell_type": "markdown",
      "source": [
        "As we can see Model 3 has the best regression metrics including the highest R^2 and lowest RMSE and MAE."
      ],
      "metadata": {
        "id": "Zdc-4Z3v9mjh"
      }
    }
  ]
}